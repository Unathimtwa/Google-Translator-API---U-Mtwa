{
 "cells": [
  {
   "cell_type": "code",
   "execution_count": 1,
   "metadata": {},
   "outputs": [],
   "source": [
    "import requests\n",
    "import json"
   ]
  },
  {
   "cell_type": "code",
   "execution_count": 2,
   "metadata": {},
   "outputs": [
    {
     "name": "stdout",
     "output_type": "stream",
     "text": [
      "Hello, and welcome to our customer service center\n"
     ]
    }
   ],
   "source": [
    "complaint = {}\n",
    "print('Hello, and welcome to our customer service center')"
   ]
  },
  {
   "cell_type": "code",
   "execution_count": 4,
   "metadata": {},
   "outputs": [
    {
     "name": "stdout",
     "output_type": "stream",
     "text": [
      "Hello, and welcome to our customer service center\n",
      "Please enter your complaint here: Andiyazi nalento ndiyenzayo apha mna \n",
      "You have successfully entered your complaint  and it will looked at ASAP\n",
      "{'Complain': 'Andiyazi nalento ndiyenzayo apha mna '}\n"
     ]
    }
   ],
   "source": [
    "def welcome():\n",
    "\n",
    "    message = input(\"Please enter your complaint here: \")\n",
    "    if message == \"\":\n",
    "        print(\"You have not inputed anything, please try again!\")\n",
    "        \n",
    "    else:\n",
    "        complaint['Complain'] = message\n",
    "        print(\"You have successfully entered your complaint  and it will looked at ASAP\")\n",
    "        print(complaint)\n",
    "\n",
    "welcome()"
   ]
  },
  {
   "cell_type": "code",
   "execution_count": 7,
   "metadata": {},
   "outputs": [
    {
     "name": "stdout",
     "output_type": "stream",
     "text": [
      "{\"data\":{\"translations\":[{\"translatedText\":\"&#39;message&#39;\"}]}}\n"
     ]
    }
   ],
   "source": [
    "url = \"https://google-translate1.p.rapidapi.com/language/translate/v2\"\n",
    "\n",
    "#payload = \"q='message'&target=en&source=xh\"\n",
    "\n",
    "\n",
    "headers = {\n",
    "    'content-type': \"application/x-www-form-urlencoded\",\n",
    "    'accept-encoding': \"application/gzip\",\n",
    "    'x-rapidapi-key': \"d543e73f8dmsh9d9d20ae80d5e54p1f45e5jsn89e2781651d9\",\n",
    "    'x-rapidapi-host': \"google-translate1.p.rapidapi.com\"\n",
    "    }\n",
    "\n",
    "response = requests.request(\"POST\", url, data=payload, headers=headers)\n",
    "\n",
    "print(response.text)"
   ]
  },
  {
   "cell_type": "code",
   "execution_count": 3,
   "metadata": {},
   "outputs": [
    {
     "name": "stdout",
     "output_type": "stream",
     "text": [
      "Here is the complaint list{}\n"
     ]
    }
   ],
   "source": [
    "def translate_complaint():\n",
    "\n",
    "    print('Here is the complaint list' + str(complaint))\n",
    "\n",
    "    for item in complaint:\n",
    "        if item in complaint.values():\n",
    "            print(translate(item)) \n",
    "        else:\n",
    "            print('Pick from the complain list')\n",
    "            translation = item.translate\n",
    "\n",
    "translate_complaint()"
   ]
  },
  {
   "cell_type": "code",
   "execution_count": null,
   "metadata": {},
   "outputs": [],
   "source": []
  }
 ],
 "metadata": {
  "kernelspec": {
   "display_name": "Python 3",
   "language": "python",
   "name": "python3"
  },
  "language_info": {
   "codemirror_mode": {
    "name": "ipython",
    "version": 3
   },
   "file_extension": ".py",
   "mimetype": "text/x-python",
   "name": "python",
   "nbconvert_exporter": "python",
   "pygments_lexer": "ipython3",
   "version": "3.8.5"
  }
 },
 "nbformat": 4,
 "nbformat_minor": 4
}
