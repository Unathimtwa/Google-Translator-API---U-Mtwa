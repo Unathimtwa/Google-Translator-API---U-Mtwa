{
 "cells": [
  {
   "cell_type": "code",
   "execution_count": 82,
   "metadata": {},
   "outputs": [],
   "source": [
    "import requests\n",
    "import json"
   ]
  },
  {
   "cell_type": "code",
   "execution_count": 83,
   "metadata": {},
   "outputs": [
    {
     "name": "stdout",
     "output_type": "stream",
     "text": [
      "Hello, and welcome to our customer service center\n"
     ]
    }
   ],
   "source": [
    "complaint = {}\n",
    "print('Hello, and welcome to our customer service center')\n"
   ]
  },
  {
   "cell_type": "code",
   "execution_count": 84,
   "metadata": {},
   "outputs": [
    {
     "name": "stdout",
     "output_type": "stream",
     "text": [
      "Please enter your complaint here: Maybe this is just not for me\n",
      "You have successfully entered your complaint  and it will looked at ASAP\n",
      "{'Complain_list': {'Complaint1': 'Maybe this is just not for me'}}\n"
     ]
    }
   ],
   "source": [
    "message = input(\"Please enter your complaint here: \")\n",
    "\n",
    "\n",
    "def welcome():\n",
    "    \n",
    "    if message == \"\":\n",
    "        print(\"You have not inputed anything, please try again!\")\n",
    "\n",
    "    else:\n",
    "        complaint['Complain_list'] = {'Complaint1': message}\n",
    "        print(\"You have successfully entered your complaint  and it will looked at ASAP\")\n",
    "        \n",
    "        print(complaint)\n",
    "        \n",
    "welcome()"
   ]
  },
  {
   "cell_type": "code",
   "execution_count": null,
   "metadata": {},
   "outputs": [],
   "source": [
    "def translate_complaint():\n",
    "\n",
    "    print('Here is the complaint list' + str(complaint))\n",
    "\n",
    "    \n",
    "    if message in complaint.values():\n",
    "        print(translate(message)) \n",
    "    else:\n",
    "        print('Pick from the complain list')\n",
    "        translation = message.translate\n",
    "\n",
    "translate_complaint()"
   ]
  },
  {
   "cell_type": "code",
   "execution_count": 88,
   "metadata": {},
   "outputs": [
    {
     "name": "stdout",
     "output_type": "stream",
     "text": [
      "{\"data\":{\"translations\":[{\"translatedText\":\"&#39;message&#39;\"}]}}\n"
     ]
    }
   ],
   "source": [
    "def translate_text():\n",
    "\n",
    "    \n",
    "    \n",
    "    url = \"https://google-translate1.p.rapidapi.com/language/translate/v2\"\n",
    "\n",
    "    payload = \"q= 'message'&target=en&source=xh\"\n",
    "\n",
    "\n",
    "    headers = {\n",
    "        'content-type': \"application/x-www-form-urlencoded\",\n",
    "        'accept-encoding': \"application/gzip\",\n",
    "        'x-rapidapi-key': \"d543e73f8dmsh9d9d20ae80d5e54p1f45e5jsn89e2781651d9\",\n",
    "        'x-rapidapi-host': \"google-translate1.p.rapidapi.com\"\n",
    "        }\n",
    "\n",
    "    response = requests.request(\"POST\", url, data=payload, headers=headers)\n",
    "\n",
    "translate = response.text\n",
    "translated_text = json.loads(translate)\n",
    "print(translate)\n",
    "    "
   ]
  },
  {
   "cell_type": "code",
   "execution_count": 90,
   "metadata": {},
   "outputs": [
    {
     "name": "stdout",
     "output_type": "stream",
     "text": [
      "Here is the complaint list{'Complain_list': {'Complaint1': 'Maybe this is just not for me'}}\n",
      "Pick from the complain list\n"
     ]
    }
   ],
   "source": [
    "def translate_complaint(text):\n",
    "\n",
    "    print('Here is the complaint list' + str(complaint))\n",
    "\n",
    "    \n",
    "    if text in complaint.values():\n",
    "        print(translate(message)) \n",
    "    else:\n",
    "        print('Pick from the complain list')\n",
    "        translation = message.translate\n",
    "\n",
    "translate_complaint(complaint)"
   ]
  },
  {
   "cell_type": "code",
   "execution_count": 78,
   "metadata": {},
   "outputs": [
    {
     "name": "stdout",
     "output_type": "stream",
     "text": [
      "{'data': {'detections': [[{'language': 'en', 'isReliable': False, 'confidence': 1}]]}}\n"
     ]
    }
   ],
   "source": [
    "def detect_langs(text):\n",
    "\n",
    "    \n",
    "    url = \"https://google-translate1.p.rapidapi.com/language/translate/v2/detect\"\n",
    "\n",
    "    payload = \"q=translate_complaint\"\n",
    "    headers = {\n",
    "        'content-type': \"application/x-www-form-urlencoded\",\n",
    "        'accept-encoding': \"application/gzip\",\n",
    "        'x-rapidapi-key': \"d543e73f8dmsh9d9d20ae80d5e54p1f45e5jsn89e2781651d9\",\n",
    "        'x-rapidapi-host': \"google-translate1.p.rapidapi.com\"\n",
    "        }\n",
    "\n",
    "    response = requests.request(\"POST\", url, data=payload, headers=headers)\n",
    "\n",
    "    language= response.text\n",
    "    detect_lang = json.loads(language)\n",
    "    print(detect_lang)\n",
    "    \n",
    "detect_langs()"
   ]
  },
  {
   "cell_type": "code",
   "execution_count": 79,
   "metadata": {},
   "outputs": [
    {
     "ename": "KeyError",
     "evalue": "'detections'",
     "output_type": "error",
     "traceback": [
      "\u001b[1;31m---------------------------------------------------------------------------\u001b[0m",
      "\u001b[1;31mKeyError\u001b[0m                                  Traceback (most recent call last)",
      "\u001b[1;32m<ipython-input-79-7ebc05d4ddbd>\u001b[0m in \u001b[0;36m<module>\u001b[1;34m\u001b[0m\n\u001b[1;32m----> 1\u001b[1;33m \u001b[0mdetect_lang\u001b[0m\u001b[1;33m[\u001b[0m\u001b[1;34m'data'\u001b[0m\u001b[1;33m]\u001b[0m\u001b[1;33m[\u001b[0m\u001b[1;34m'detections'\u001b[0m\u001b[1;33m]\u001b[0m\u001b[1;33m\u001b[0m\u001b[1;33m\u001b[0m\u001b[0m\n\u001b[0m",
      "\u001b[1;31mKeyError\u001b[0m: 'detections'"
     ]
    }
   ],
   "source": [
    "detect_lang['data']['detections']"
   ]
  },
  {
   "cell_type": "code",
   "execution_count": null,
   "metadata": {},
   "outputs": [],
   "source": []
  }
 ],
 "metadata": {
  "kernelspec": {
   "display_name": "Python 3",
   "language": "python",
   "name": "python3"
  },
  "language_info": {
   "codemirror_mode": {
    "name": "ipython",
    "version": 3
   },
   "file_extension": ".py",
   "mimetype": "text/x-python",
   "name": "python",
   "nbconvert_exporter": "python",
   "pygments_lexer": "ipython3",
   "version": "3.8.5"
  }
 },
 "nbformat": 4,
 "nbformat_minor": 4
}
